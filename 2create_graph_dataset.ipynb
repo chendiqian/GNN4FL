{
 "cells": [
  {
   "cell_type": "code",
   "execution_count": 1,
   "id": "a829a10b-d8b0-43e0-9a44-3ceb4b1d3b1a",
   "metadata": {},
   "outputs": [],
   "source": [
    "import torch\n",
    "import numpy as np\n",
    "from tqdm import tqdm\n",
    "from torch_geometric.data import HeteroData\n",
    "import os"
   ]
  },
  {
   "cell_type": "code",
   "execution_count": 2,
   "id": "fbbd3dcc-0d61-4ad7-aec8-277ea2b8cccc",
   "metadata": {},
   "outputs": [],
   "source": [
    "from weight_datasets import PretrainedWeights, AdditiveNoise, SignFlip"
   ]
  },
  {
   "cell_type": "code",
   "execution_count": 3,
   "id": "776a9ab5-4b0a-43d7-9c75-eb0cf637a3d8",
   "metadata": {},
   "outputs": [],
   "source": [
    "weights_dataset = PretrainedWeights('datasets/PretrainedWeights/', transform=AdditiveNoise(0.3, 0.3))\n",
    "weights_loader = torch.utils.data.DataLoader(weights_dataset, batch_size=50, shuffle=True)"
   ]
  },
  {
   "cell_type": "code",
   "execution_count": null,
   "id": "c8a9e14f-3133-43d1-9631-888c97a3c88e",
   "metadata": {},
   "outputs": [],
   "source": []
  },
  {
   "cell_type": "code",
   "execution_count": 4,
   "id": "84f1a4b7-1be2-494c-a90c-a71f6fba0383",
   "metadata": {},
   "outputs": [],
   "source": [
    "import torchvision.transforms as transforms\n",
    "from torchvision.datasets import MNIST\n",
    "\n",
    "transform = transforms.Compose(\n",
    "    [transforms.ToTensor(),\n",
    "     transforms.Normalize((0.5,), (0.5,))])\n",
    "mnist = MNIST('./datasets', train=False, download=True, transform=transform)\n",
    "\n",
    "valset = torch.utils.data.Subset(mnist, np.random.randint(0, len(mnist), 5000))\n",
    "mnistloader = torch.utils.data.DataLoader(valset, batch_size=256, shuffle=True)"
   ]
  },
  {
   "cell_type": "code",
   "execution_count": 5,
   "id": "7b279ed2-a061-4e63-900d-f6eb505c3a2b",
   "metadata": {},
   "outputs": [],
   "source": [
    "from mnist_cnn import MNIST_CNN\n",
    "\n",
    "mnist_cnn = MNIST_CNN().to('cuda:0')"
   ]
  },
  {
   "cell_type": "code",
   "execution_count": null,
   "id": "52d46663-e9ec-4de2-9041-0b8dccddd14d",
   "metadata": {},
   "outputs": [],
   "source": []
  },
  {
   "cell_type": "code",
   "execution_count": 6,
   "id": "031c4acb-33f9-4e7e-aa49-9a7c91e89a32",
   "metadata": {},
   "outputs": [],
   "source": [
    "epochs = 200"
   ]
  },
  {
   "cell_type": "code",
   "execution_count": 7,
   "id": "dc69f145-dd33-4dfd-a2f9-1b49a658a329",
   "metadata": {},
   "outputs": [],
   "source": [
    "num_aggr = 20"
   ]
  },
  {
   "cell_type": "code",
   "execution_count": 8,
   "id": "9caba220-2057-4ee8-a4e3-b4da2f8a136a",
   "metadata": {},
   "outputs": [],
   "source": [
    "from fl_utils import fed_avg\n",
    "from train_val import mnist_validation"
   ]
  },
  {
   "cell_type": "code",
   "execution_count": 9,
   "id": "46c785a6-6c32-452b-9985-6669fb03caf6",
   "metadata": {},
   "outputs": [],
   "source": [
    "stats = {'perturb': [], 'acc': []}"
   ]
  },
  {
   "cell_type": "code",
   "execution_count": 10,
   "id": "a695b57a-f069-4b1a-9148-e736f6334d91",
   "metadata": {},
   "outputs": [],
   "source": [
    "root = '/mnt/d/graph_dataset/raw/'"
   ]
  },
  {
   "cell_type": "code",
   "execution_count": 11,
   "id": "99c48a15-dfbf-405e-b1e7-be38cb8e63e0",
   "metadata": {},
   "outputs": [
    {
     "name": "stderr",
     "output_type": "stream",
     "text": [
      "100%|████████████████████████████████████████████████████| 10/10 [01:40<00:00, 10.03s/it, acc=0.398, perturb rate=0.333]\n",
      "100%|████████████████████████████████████████████████████████| 10/10 [01:35<00:00,  9.53s/it, acc=0.905, perturb rate=0]\n",
      "100%|██████████████████████████████████████████████████████| 10/10 [01:34<00:00,  9.48s/it, acc=0.694, perturb rate=0.2]\n",
      "100%|████████████████████████████████████████████████████| 10/10 [01:34<00:00,  9.48s/it, acc=0.761, perturb rate=0.143]\n",
      "100%|████████████████████████████████████████████████████████| 10/10 [01:35<00:00,  9.55s/it, acc=0.902, perturb rate=0]\n",
      "100%|████████████████████████████████████████████████████████| 10/10 [01:35<00:00,  9.55s/it, acc=0.905, perturb rate=0]\n",
      "100%|█████████████████████████████████████████████████████| 10/10 [01:39<00:00,  9.92s/it, acc=0.71, perturb rate=0.286]\n",
      "100%|████████████████████████████████████████████████████████| 10/10 [01:39<00:00,  9.96s/it, acc=0.908, perturb rate=0]\n",
      "100%|████████████████████████████████████████████████████| 10/10 [01:39<00:00,  9.99s/it, acc=0.678, perturb rate=0.286]\n",
      "100%|██████████████████████████████████████████████████████| 10/10 [01:38<00:00,  9.86s/it, acc=0.336, perturb rate=0.5]\n",
      "100%|████████████████████████████████████████████████████| 10/10 [01:40<00:00, 10.06s/it, acc=0.386, perturb rate=0.571]\n",
      "100%|████████████████████████████████████████████████████| 10/10 [01:40<00:00, 10.03s/it, acc=0.423, perturb rate=0.333]\n",
      "100%|████████████████████████████████████████████████████| 10/10 [01:40<00:00, 10.02s/it, acc=0.562, perturb rate=0.333]\n",
      "100%|████████████████████████████████████████████████████| 10/10 [01:40<00:00, 10.02s/it, acc=0.643, perturb rate=0.429]\n",
      "100%|██████████████████████████████████████████████████████| 10/10 [01:39<00:00,  9.99s/it, acc=0.424, perturb rate=0.4]\n",
      "100%|████████████████████████████████████████████████████| 10/10 [01:40<00:00, 10.02s/it, acc=0.762, perturb rate=0.143]\n",
      "100%|████████████████████████████████████████████████████| 10/10 [01:40<00:00, 10.01s/it, acc=0.536, perturb rate=0.333]\n",
      "100%|████████████████████████████████████████████████████| 10/10 [01:40<00:00, 10.00s/it, acc=0.701, perturb rate=0.167]\n",
      "100%|████████████████████████████████████████████████████| 10/10 [01:40<00:00, 10.02s/it, acc=0.818, perturb rate=0.143]\n",
      "100%|█████████████████████████████████████████████████████| 10/10 [01:40<00:00, 10.01s/it, acc=0.512, perturb rate=0.25]\n",
      "100%|██████████████████████████████████████████████████████| 10/10 [01:39<00:00,  9.98s/it, acc=0.307, perturb rate=0.5]\n",
      "100%|████████████████████████████████████████████████████| 10/10 [01:40<00:00, 10.01s/it, acc=0.422, perturb rate=0.333]\n",
      "100%|████████████████████████████████████████████████████████| 10/10 [01:40<00:00, 10.01s/it, acc=0.897, perturb rate=0]\n",
      "100%|████████████████████████████████████████████████████| 10/10 [01:39<00:00,  9.97s/it, acc=0.388, perturb rate=0.333]\n",
      "100%|████████████████████████████████████████████████████| 10/10 [01:40<00:00, 10.01s/it, acc=0.493, perturb rate=0.333]\n",
      "100%|██████████████████████████████████████████████████████| 10/10 [01:40<00:00, 10.03s/it, acc=0.288, perturb rate=0.5]\n",
      "100%|██████████████████████████████████████████████████████| 10/10 [01:40<00:00, 10.01s/it, acc=0.432, perturb rate=0.4]\n",
      "100%|████████████████████████████████████████████████████| 10/10 [01:39<00:00,  9.95s/it, acc=0.803, perturb rate=0.143]\n",
      "100%|████████████████████████████████████████████████████| 10/10 [01:38<00:00,  9.82s/it, acc=0.701, perturb rate=0.167]\n",
      "100%|██████████████████████████████████████████████████████| 10/10 [01:38<00:00,  9.83s/it, acc=0.431, perturb rate=0.4]\n",
      "100%|████████████████████████████████████████████████████| 10/10 [01:38<00:00,  9.85s/it, acc=0.588, perturb rate=0.333]\n",
      "100%|████████████████████████████████████████████████████████| 10/10 [01:38<00:00,  9.84s/it, acc=0.918, perturb rate=0]\n",
      "100%|████████████████████████████████████████████████████| 10/10 [01:38<00:00,  9.84s/it, acc=0.617, perturb rate=0.333]\n",
      "100%|██████████████████████████████████████████████████████| 10/10 [01:38<00:00,  9.83s/it, acc=0.698, perturb rate=0.2]\n",
      "100%|██████████████████████████████████████████████████████| 10/10 [01:38<00:00,  9.82s/it, acc=0.484, perturb rate=0.4]\n",
      "100%|████████████████████████████████████████████████████| 10/10 [01:38<00:00,  9.81s/it, acc=0.379, perturb rate=0.571]\n",
      "100%|██████████████████████████████████████████████████████| 10/10 [01:38<00:00,  9.81s/it, acc=0.276, perturb rate=0.5]\n",
      "100%|████████████████████████████████████████████████████| 10/10 [01:38<00:00,  9.80s/it, acc=0.562, perturb rate=0.333]\n",
      "100%|████████████████████████████████████████████████████████| 10/10 [01:37<00:00,  9.80s/it, acc=0.904, perturb rate=0]\n",
      "100%|██████████████████████████████████████████████████████| 10/10 [01:38<00:00,  9.82s/it, acc=0.376, perturb rate=0.5]\n",
      "100%|██████████████████████████████████████████████████████| 10/10 [01:38<00:00,  9.81s/it, acc=0.53, perturb rate=0.25]\n",
      "100%|████████████████████████████████████████████████████| 10/10 [01:37<00:00,  9.74s/it, acc=0.327, perturb rate=0.333]\n",
      "100%|████████████████████████████████████████████████████| 10/10 [01:38<00:00,  9.81s/it, acc=0.364, perturb rate=0.667]\n",
      "100%|████████████████████████████████████████████████████| 10/10 [01:38<00:00,  9.84s/it, acc=0.651, perturb rate=0.429]\n",
      "100%|██████████████████████████████████████████████████████| 10/10 [01:38<00:00,  9.83s/it, acc=0.291, perturb rate=0.6]\n",
      "100%|████████████████████████████████████████████████████| 10/10 [01:38<00:00,  9.86s/it, acc=0.581, perturb rate=0.429]\n",
      "100%|████████████████████████████████████████████████████| 10/10 [01:38<00:00,  9.85s/it, acc=0.756, perturb rate=0.167]\n",
      "100%|██████████████████████████████████████████████████████| 10/10 [01:38<00:00,  9.85s/it, acc=0.299, perturb rate=0.5]\n",
      "100%|████████████████████████████████████████████████████| 10/10 [01:38<00:00,  9.85s/it, acc=0.655, perturb rate=0.286]\n",
      "100%|██████████████████████████████████████████████████████| 10/10 [01:38<00:00,  9.85s/it, acc=0.645, perturb rate=0.2]\n",
      "100%|████████████████████████████████████████████████████| 10/10 [01:38<00:00,  9.81s/it, acc=0.609, perturb rate=0.333]\n",
      "100%|████████████████████████████████████████████████████| 10/10 [01:37<00:00,  9.79s/it, acc=0.296, perturb rate=0.667]\n",
      "100%|████████████████████████████████████████████████████| 10/10 [01:38<00:00,  9.81s/it, acc=0.386, perturb rate=0.333]\n",
      "100%|████████████████████████████████████████████████████| 10/10 [01:38<00:00,  9.83s/it, acc=0.221, perturb rate=0.667]\n",
      "100%|████████████████████████████████████████████████████| 10/10 [01:38<00:00,  9.85s/it, acc=0.298, perturb rate=0.333]\n",
      "100%|████████████████████████████████████████████████████| 10/10 [01:38<00:00,  9.84s/it, acc=0.434, perturb rate=0.667]\n",
      "100%|█████████████████████████████████████████████████████| 10/10 [01:38<00:00,  9.83s/it, acc=0.604, perturb rate=0.25]\n",
      "100%|█████████████████████████████████████████████████████| 10/10 [01:38<00:00,  9.82s/it, acc=0.605, perturb rate=0.25]\n",
      "100%|████████████████████████████████████████████████████| 10/10 [01:38<00:00,  9.82s/it, acc=0.278, perturb rate=0.333]\n",
      "100%|████████████████████████████████████████████████████| 10/10 [01:38<00:00,  9.89s/it, acc=0.413, perturb rate=0.714]\n",
      "100%|████████████████████████████████████████████████████| 10/10 [01:38<00:00,  9.86s/it, acc=0.682, perturb rate=0.167]\n",
      "100%|██████████████████████████████████████████████████████| 10/10 [01:38<00:00,  9.86s/it, acc=0.455, perturb rate=0.5]\n",
      "100%|█████████████████████████████████████████████████████| 10/10 [01:38<00:00,  9.89s/it, acc=0.46, perturb rate=0.571]\n",
      "100%|████████████████████████████████████████████████████| 10/10 [01:38<00:00,  9.89s/it, acc=0.618, perturb rate=0.429]\n",
      "100%|████████████████████████████████████████████████████████| 10/10 [01:38<00:00,  9.86s/it, acc=0.904, perturb rate=0]\n",
      "100%|████████████████████████████████████████████████████| 10/10 [01:39<00:00,  9.92s/it, acc=0.277, perturb rate=0.667]\n",
      "100%|████████████████████████████████████████████████████████| 10/10 [01:38<00:00,  9.88s/it, acc=0.909, perturb rate=0]\n",
      "100%|██████████████████████████████████████████████████████| 10/10 [01:39<00:00,  9.91s/it, acc=0.702, perturb rate=0.2]\n",
      "100%|██████████████████████████████████████████████████████| 10/10 [01:38<00:00,  9.85s/it, acc=0.647, perturb rate=0.2]\n",
      "100%|████████████████████████████████████████████████████████| 10/10 [01:38<00:00,  9.84s/it, acc=0.902, perturb rate=0]\n",
      "100%|█████████████████████████████████████████████████████| 10/10 [01:38<00:00,  9.84s/it, acc=0.277, perturb rate=0.75]\n",
      "100%|████████████████████████████████████████████████████| 10/10 [01:38<00:00,  9.85s/it, acc=0.641, perturb rate=0.286]\n",
      "100%|█████████████████████████████████████████████████████| 10/10 [01:38<00:00,  9.83s/it, acc=0.594, perturb rate=0.25]\n",
      "100%|██████████████████████████████████████████████████████| 10/10 [01:38<00:00,  9.82s/it, acc=0.408, perturb rate=0.5]\n",
      "100%|██████████████████████████████████████████████████████| 10/10 [01:38<00:00,  9.85s/it, acc=0.338, perturb rate=0.6]\n",
      "100%|████████████████████████████████████████████████████████| 10/10 [01:38<00:00,  9.84s/it, acc=0.909, perturb rate=0]\n",
      "100%|█████████████████████████████████████████████████████| 10/10 [01:38<00:00,  9.84s/it, acc=0.37, perturb rate=0.333]\n",
      "100%|████████████████████████████████████████████████████| 10/10 [01:38<00:00,  9.88s/it, acc=0.793, perturb rate=0.143]\n",
      "100%|████████████████████████████████████████████████████| 10/10 [01:38<00:00,  9.82s/it, acc=0.301, perturb rate=0.333]\n",
      "100%|████████████████████████████████████████████████████████| 10/10 [01:38<00:00,  9.83s/it, acc=0.909, perturb rate=0]\n",
      "100%|████████████████████████████████████████████████████| 10/10 [01:38<00:00,  9.86s/it, acc=0.657, perturb rate=0.286]\n",
      "100%|██████████████████████████████████████████████████████| 10/10 [01:38<00:00,  9.85s/it, acc=0.341, perturb rate=0.5]\n",
      "100%|████████████████████████████████████████████████████████| 10/10 [01:38<00:00,  9.84s/it, acc=0.903, perturb rate=0]\n",
      "100%|█████████████████████████████████████████████████████| 10/10 [01:38<00:00,  9.86s/it, acc=0.551, perturb rate=0.25]\n",
      "100%|█████████████████████████████████████████████████████| 10/10 [01:38<00:00,  9.83s/it, acc=0.75, perturb rate=0.143]\n",
      "100%|████████████████████████████████████████████████████████| 10/10 [01:38<00:00,  9.81s/it, acc=0.909, perturb rate=0]\n",
      "100%|████████████████████████████████████████████████████████| 10/10 [01:38<00:00,  9.86s/it, acc=0.923, perturb rate=0]\n",
      "100%|████████████████████████████████████████████████████████| 10/10 [01:38<00:00,  9.85s/it, acc=0.159, perturb rate=1]\n",
      "100%|████████████████████████████████████████████████████████| 10/10 [01:38<00:00,  9.82s/it, acc=0.905, perturb rate=0]\n",
      "100%|█████████████████████████████████████████████████████| 10/10 [01:38<00:00,  9.85s/it, acc=0.481, perturb rate=0.25]\n",
      "100%|████████████████████████████████████████████████████| 10/10 [01:38<00:00,  9.85s/it, acc=0.196, perturb rate=0.667]\n",
      "100%|██████████████████████████████████████████████████████| 10/10 [01:38<00:00,  9.84s/it, acc=0.463, perturb rate=0.4]\n",
      "100%|██████████████████████████████████████████████████████████| 10/10 [01:38<00:00,  9.86s/it, acc=0.9, perturb rate=0]\n",
      "100%|████████████████████████████████████████████████████████| 10/10 [01:38<00:00,  9.82s/it, acc=0.897, perturb rate=0]\n",
      "100%|████████████████████████████████████████████████████████| 10/10 [01:38<00:00,  9.87s/it, acc=0.913, perturb rate=0]\n",
      "100%|████████████████████████████████████████████████████| 10/10 [01:38<00:00,  9.85s/it, acc=0.476, perturb rate=0.571]\n",
      "100%|█████████████████████████████████████████████████████| 10/10 [01:38<00:00,  9.83s/it, acc=0.592, perturb rate=0.25]\n",
      "100%|██████████████████████████████████████████████████████| 10/10 [01:38<00:00,  9.85s/it, acc=0.485, perturb rate=0.5]\n",
      "100%|█████████████████████████████████████████████████████| 10/10 [01:38<00:00,  9.87s/it, acc=0.58, perturb rate=0.333]\n",
      "100%|████████████████████████████████████████████████████| 10/10 [01:38<00:00,  9.84s/it, acc=0.636, perturb rate=0.286]\n",
      "100%|██████████████████████████████████████████████████████| 10/10 [01:38<00:00,  9.86s/it, acc=0.294, perturb rate=0.8]\n",
      "100%|████████████████████████████████████████████████████| 10/10 [01:38<00:00,  9.88s/it, acc=0.365, perturb rate=0.333]\n",
      "100%|██████████████████████████████████████████████████████| 10/10 [01:38<00:00,  9.82s/it, acc=0.631, perturb rate=0.2]\n",
      "100%|███████████████████████████████████████████████████████| 10/10 [01:38<00:00,  9.81s/it, acc=0.34, perturb rate=0.5]\n",
      "100%|█████████████████████████████████████████████████████| 10/10 [01:37<00:00,  9.80s/it, acc=0.533, perturb rate=0.25]\n",
      "100%|████████████████████████████████████████████████████| 10/10 [01:36<00:00,  9.67s/it, acc=0.814, perturb rate=0.143]\n",
      "100%|████████████████████████████████████████████████████| 10/10 [01:36<00:00,  9.66s/it, acc=0.356, perturb rate=0.333]\n",
      "100%|████████████████████████████████████████████████████████| 10/10 [01:36<00:00,  9.61s/it, acc=0.898, perturb rate=0]\n",
      "100%|██████████████████████████████████████████████████████| 10/10 [01:36<00:00,  9.61s/it, acc=0.7, perturb rate=0.167]\n",
      "100%|████████████████████████████████████████████████████████| 10/10 [01:36<00:00,  9.61s/it, acc=0.905, perturb rate=0]\n",
      "100%|██████████████████████████████████████████████████████| 10/10 [01:36<00:00,  9.62s/it, acc=0.354, perturb rate=0.6]\n",
      "100%|█████████████████████████████████████████████████████| 10/10 [01:36<00:00,  9.66s/it, acc=0.555, perturb rate=0.25]\n",
      "100%|████████████████████████████████████████████████████| 10/10 [01:36<00:00,  9.61s/it, acc=0.408, perturb rate=0.333]\n",
      "100%|████████████████████████████████████████████████████████| 10/10 [01:36<00:00,  9.65s/it, acc=0.905, perturb rate=0]\n",
      "100%|████████████████████████████████████████████████████████| 10/10 [01:36<00:00,  9.67s/it, acc=0.901, perturb rate=0]\n",
      "100%|██████████████████████████████████████████████████████| 10/10 [01:36<00:00,  9.63s/it, acc=0.672, perturb rate=0.2]\n",
      "100%|████████████████████████████████████████████████████| 10/10 [01:36<00:00,  9.63s/it, acc=0.582, perturb rate=0.429]\n",
      "100%|██████████████████████████████████████████████████████| 10/10 [01:36<00:00,  9.63s/it, acc=0.559, perturb rate=0.2]\n",
      "100%|██████████████████████████████████████████████████████| 10/10 [01:36<00:00,  9.65s/it, acc=0.51, perturb rate=0.25]\n",
      "100%|███████████████████████████████████████████████████████| 10/10 [01:36<00:00,  9.66s/it, acc=0.51, perturb rate=0.2]\n",
      "100%|████████████████████████████████████████████████████████| 10/10 [01:37<00:00,  9.70s/it, acc=0.909, perturb rate=0]\n",
      "100%|█████████████████████████████████████████████████████| 10/10 [01:36<00:00,  9.63s/it, acc=0.36, perturb rate=0.714]\n",
      "100%|████████████████████████████████████████████████████████| 10/10 [01:36<00:00,  9.68s/it, acc=0.896, perturb rate=0]\n",
      "100%|██████████████████████████████████████████████████████| 10/10 [01:36<00:00,  9.64s/it, acc=0.53, perturb rate=0.25]\n",
      "100%|█████████████████████████████████████████████████████| 10/10 [01:36<00:00,  9.68s/it, acc=0.554, perturb rate=0.25]\n",
      "100%|██████████████████████████████████████████████████████| 10/10 [01:36<00:00,  9.68s/it, acc=0.493, perturb rate=0.4]\n",
      "100%|████████████████████████████████████████████████████| 10/10 [01:36<00:00,  9.66s/it, acc=0.538, perturb rate=0.429]\n",
      "100%|█████████████████████████████████████████████████████| 10/10 [01:36<00:00,  9.66s/it, acc=0.439, perturb rate=0.25]\n",
      "100%|████████████████████████████████████████████████████| 10/10 [01:36<00:00,  9.64s/it, acc=0.272, perturb rate=0.667]\n",
      "100%|█████████████████████████████████████████████████████| 10/10 [01:36<00:00,  9.67s/it, acc=0.497, perturb rate=0.25]\n",
      "100%|████████████████████████████████████████████████████████| 10/10 [01:36<00:00,  9.69s/it, acc=0.903, perturb rate=0]\n",
      "100%|████████████████████████████████████████████████████████| 10/10 [01:36<00:00,  9.69s/it, acc=0.898, perturb rate=0]\n",
      "100%|████████████████████████████████████████████████████████| 10/10 [01:36<00:00,  9.68s/it, acc=0.909, perturb rate=0]\n",
      "100%|██████████████████████████████████████████████████████| 10/10 [01:36<00:00,  9.66s/it, acc=0.552, perturb rate=0.2]\n",
      "100%|██████████████████████████████████████████████████████| 10/10 [01:36<00:00,  9.67s/it, acc=0.596, perturb rate=0.4]\n",
      "100%|████████████████████████████████████████████████████| 10/10 [01:36<00:00,  9.65s/it, acc=0.759, perturb rate=0.167]\n",
      "100%|████████████████████████████████████████████████████████| 10/10 [01:36<00:00,  9.65s/it, acc=0.905, perturb rate=0]\n",
      "100%|██████████████████████████████████████████████████████| 10/10 [01:36<00:00,  9.68s/it, acc=0.466, perturb rate=0.5]\n",
      "100%|█████████████████████████████████████████████████████| 10/10 [01:36<00:00,  9.67s/it, acc=0.38, perturb rate=0.333]\n",
      "100%|████████████████████████████████████████████████████| 10/10 [01:36<00:00,  9.69s/it, acc=0.488, perturb rate=0.333]\n",
      "100%|█████████████████████████████████████████████████████████| 10/10 [01:36<00:00,  9.67s/it, acc=0.91, perturb rate=0]\n",
      "100%|█████████████████████████████████████████████████████| 10/10 [01:36<00:00,  9.65s/it, acc=0.527, perturb rate=0.25]\n",
      "100%|████████████████████████████████████████████████████| 10/10 [01:36<00:00,  9.68s/it, acc=0.322, perturb rate=0.667]\n",
      "100%|██████████████████████████████████████████████████████| 10/10 [01:36<00:00,  9.66s/it, acc=0.384, perturb rate=0.5]\n",
      "100%|█████████████████████████████████████████████████████| 10/10 [01:36<00:00,  9.65s/it, acc=0.272, perturb rate=0.75]\n",
      "100%|████████████████████████████████████████████████████| 10/10 [01:36<00:00,  9.65s/it, acc=0.386, perturb rate=0.571]\n",
      "100%|██████████████████████████████████████████████████████| 10/10 [01:36<00:00,  9.65s/it, acc=0.54, perturb rate=0.25]\n",
      "100%|██████████████████████████████████████████████████████| 10/10 [01:36<00:00,  9.66s/it, acc=0.634, perturb rate=0.2]\n",
      "100%|██████████████████████████████████████████████████████| 10/10 [01:36<00:00,  9.66s/it, acc=0.356, perturb rate=0.5]\n",
      "100%|█████████████████████████████████████████████████████████| 10/10 [01:36<00:00,  9.62s/it, acc=0.91, perturb rate=0]\n",
      "100%|████████████████████████████████████████████████████████| 10/10 [01:36<00:00,  9.64s/it, acc=0.905, perturb rate=0]\n",
      "100%|████████████████████████████████████████████████████| 10/10 [01:36<00:00,  9.63s/it, acc=0.271, perturb rate=0.333]\n",
      "100%|██████████████████████████████████████████████████████| 10/10 [01:36<00:00,  9.64s/it, acc=0.254, perturb rate=0.5]\n",
      "100%|████████████████████████████████████████████████████████| 10/10 [01:36<00:00,  9.64s/it, acc=0.907, perturb rate=0]\n",
      "100%|████████████████████████████████████████████████████| 10/10 [01:36<00:00,  9.64s/it, acc=0.355, perturb rate=0.333]\n",
      "100%|██████████████████████████████████████████████████████| 10/10 [01:36<00:00,  9.65s/it, acc=0.264, perturb rate=0.5]\n",
      "100%|████████████████████████████████████████████████████████| 10/10 [01:36<00:00,  9.64s/it, acc=0.879, perturb rate=0]\n",
      "100%|██████████████████████████████████████████████████████| 10/10 [01:36<00:00,  9.63s/it, acc=0.399, perturb rate=0.4]\n",
      "100%|██████████████████████████████████████████████████████| 10/10 [01:36<00:00,  9.66s/it, acc=0.391, perturb rate=0.5]\n",
      "100%|████████████████████████████████████████████████████| 10/10 [01:36<00:00,  9.65s/it, acc=0.485, perturb rate=0.429]\n",
      "100%|████████████████████████████████████████████████████████| 10/10 [01:36<00:00,  9.65s/it, acc=0.908, perturb rate=0]\n",
      "100%|████████████████████████████████████████████████████████| 10/10 [01:36<00:00,  9.70s/it, acc=0.907, perturb rate=0]\n",
      "100%|██████████████████████████████████████████████████████| 10/10 [01:36<00:00,  9.70s/it, acc=0.619, perturb rate=0.2]\n",
      "100%|█████████████████████████████████████████████████████| 10/10 [01:37<00:00,  9.70s/it, acc=0.564, perturb rate=0.25]\n",
      "100%|████████████████████████████████████████████████████| 10/10 [01:37<00:00,  9.70s/it, acc=0.368, perturb rate=0.333]\n",
      "100%|██████████████████████████████████████████████████████| 10/10 [01:37<00:00,  9.72s/it, acc=0.674, perturb rate=0.2]\n",
      "100%|████████████████████████████████████████████████████████| 10/10 [01:36<00:00,  9.69s/it, acc=0.909, perturb rate=0]\n",
      "100%|████████████████████████████████████████████████████| 10/10 [01:36<00:00,  9.67s/it, acc=0.696, perturb rate=0.286]\n",
      "100%|██████████████████████████████████████████████████████| 10/10 [01:36<00:00,  9.67s/it, acc=0.472, perturb rate=0.4]\n",
      "100%|███████████████████████████████████████████████████████| 10/10 [01:36<00:00,  9.65s/it, acc=0.51, perturb rate=0.5]\n",
      "100%|████████████████████████████████████████████████████| 10/10 [01:36<00:00,  9.70s/it, acc=0.703, perturb rate=0.286]\n",
      "100%|████████████████████████████████████████████████████| 10/10 [01:37<00:00,  9.70s/it, acc=0.367, perturb rate=0.333]\n",
      "100%|████████████████████████████████████████████████████| 10/10 [01:37<00:00,  9.71s/it, acc=0.687, perturb rate=0.286]\n",
      "100%|████████████████████████████████████████████████████| 10/10 [01:36<00:00,  9.67s/it, acc=0.777, perturb rate=0.167]\n",
      "100%|████████████████████████████████████████████████████| 10/10 [01:36<00:00,  9.66s/it, acc=0.411, perturb rate=0.667]\n",
      "100%|██████████████████████████████████████████████████████| 10/10 [01:36<00:00,  9.64s/it, acc=0.437, perturb rate=0.5]\n",
      "100%|████████████████████████████████████████████████████| 10/10 [01:36<00:00,  9.68s/it, acc=0.355, perturb rate=0.333]\n",
      "100%|█████████████████████████████████████████████████████| 10/10 [01:37<00:00,  9.74s/it, acc=0.509, perturb rate=0.25]\n",
      "100%|█████████████████████████████████████████████████████████| 10/10 [01:37<00:00,  9.70s/it, acc=0.91, perturb rate=0]\n",
      "100%|████████████████████████████████████████████████████████| 10/10 [01:37<00:00,  9.70s/it, acc=0.905, perturb rate=0]\n",
      "100%|████████████████████████████████████████████████████| 10/10 [01:36<00:00,  9.69s/it, acc=0.623, perturb rate=0.286]\n",
      "100%|██████████████████████████████████████████████████████| 10/10 [01:36<00:00,  9.68s/it, acc=0.24, perturb rate=0.75]\n",
      "100%|█████████████████████████████████████████████████████████| 10/10 [01:36<00:00,  9.67s/it, acc=0.92, perturb rate=0]\n",
      "100%|███████████████████████████████████████████████████████| 10/10 [01:36<00:00,  9.65s/it, acc=0.71, perturb rate=0.2]\n",
      "100%|██████████████████████████████████████████████████████| 10/10 [01:36<00:00,  9.67s/it, acc=0.502, perturb rate=0.4]\n",
      "100%|██████████████████████████████████████████████████████| 10/10 [01:36<00:00,  9.69s/it, acc=0.422, perturb rate=0.5]\n",
      "100%|██████████████████████████████████████████████████████| 10/10 [01:37<00:00,  9.71s/it, acc=0.658, perturb rate=0.2]\n",
      "100%|████████████████████████████████████████████████████| 10/10 [01:36<00:00,  9.67s/it, acc=0.692, perturb rate=0.167]\n",
      "100%|████████████████████████████████████████████████████████| 10/10 [01:37<00:00,  9.70s/it, acc=0.901, perturb rate=0]\n",
      "100%|████████████████████████████████████████████████████| 10/10 [01:36<00:00,  9.69s/it, acc=0.202, perturb rate=0.667]\n",
      "100%|████████████████████████████████████████████████████████| 10/10 [01:37<00:00,  9.72s/it, acc=0.914, perturb rate=0]\n",
      "100%|████████████████████████████████████████████████████| 10/10 [01:37<00:00,  9.72s/it, acc=0.349, perturb rate=0.333]\n",
      "100%|██████████████████████████████████████████████████████| 10/10 [01:36<00:00,  9.68s/it, acc=0.421, perturb rate=0.4]\n",
      "100%|████████████████████████████████████████████████████| 10/10 [01:37<00:00,  9.71s/it, acc=0.759, perturb rate=0.167]\n",
      "100%|██████████████████████████████████████████████████████████| 10/10 [01:36<00:00,  9.69s/it, acc=0.9, perturb rate=0]\n",
      "100%|████████████████████████████████████████████████████| 10/10 [01:36<00:00,  9.69s/it, acc=0.809, perturb rate=0.143]\n",
      "100%|████████████████████████████████████████████████████| 10/10 [01:37<00:00,  9.75s/it, acc=0.524, perturb rate=0.429]\n",
      "100%|████████████████████████████████████████████████████| 10/10 [01:36<00:00,  9.67s/it, acc=0.673, perturb rate=0.167]\n",
      "100%|████████████████████████████████████████████████████████| 10/10 [01:37<00:00,  9.71s/it, acc=0.5, perturb rate=0.4]\n",
      "100%|████████████████████████████████████████████████████████| 10/10 [01:37<00:00,  9.71s/it, acc=0.911, perturb rate=0]\n"
     ]
    }
   ],
   "source": [
    "for epoch in range(epochs):\n",
    "    pbar = tqdm(weights_loader)\n",
    "    for weights, labels in pbar:\n",
    "        weights_cuda = {k: w.cuda() for k, w in weights.items()}\n",
    "        accs = []\n",
    "        edges_rows = []\n",
    "        edges_cols = []\n",
    "        for aggr_idx in range(num_aggr):\n",
    "            nums = np.random.randint(3, 8, 1)[0]\n",
    "            selected_model_idx = np.sort(np.random.choice(50, size=nums, replace=False))\n",
    "            edges_rows.append(selected_model_idx)\n",
    "            edges_cols.append(np.full(nums, aggr_idx, dtype=selected_model_idx.dtype))\n",
    "            selected_weights = {k: w[selected_model_idx, ...] for k, w in weights_cuda.items()}\n",
    "            \n",
    "            agg_weights = fed_avg(selected_weights)\n",
    "            mnist_cnn.load_state_dict(agg_weights)\n",
    "            acc = mnist_validation(mnistloader, mnist_cnn)\n",
    "            accs.append(acc)\n",
    "            \n",
    "            perturb = 1 - labels[selected_model_idx].sum().item() / len(selected_model_idx)\n",
    "            pbar.set_postfix({'acc': acc, 'perturb rate': perturb})\n",
    "            stats['perturb'].append(perturb)\n",
    "            stats['acc'].append(acc)\n",
    "        \n",
    "        edge_index = torch.vstack([torch.from_numpy(np.concatenate(edges_rows)),\n",
    "                                   torch.from_numpy(np.concatenate(edges_cols)),])\n",
    "        data = HeteroData(aggregator={'x': torch.tensor(accs)[:, None]},\n",
    "                          clients__aggregator={'edge_index': edge_index},\n",
    "                          aggregator__clients={'edge_index': edge_index[torch.tensor([1, 0])]},\n",
    "                          y=labels)\n",
    "        for k, w in weights.items():\n",
    "            data[k].x = w\n",
    "        \n",
    "        cur_models = os.listdir(root)\n",
    "        cur_models = len([m for m in cur_models if m.endswith('.pt')])\n",
    "        torch.save(data, os.path.join(root, f'model{cur_models}.pt'))"
   ]
  },
  {
   "cell_type": "code",
   "execution_count": null,
   "id": "2f9f7404-44b2-4cab-8491-ac2c7ec583cf",
   "metadata": {},
   "outputs": [],
   "source": []
  },
  {
   "cell_type": "code",
   "execution_count": 12,
   "id": "d6ea7997-8ce1-4e24-a712-b0452001fcbb",
   "metadata": {},
   "outputs": [],
   "source": [
    "# graphs = [data, data, data, data]"
   ]
  },
  {
   "cell_type": "code",
   "execution_count": 13,
   "id": "153b1d51-7fc7-47b7-810a-92d0f5a512df",
   "metadata": {},
   "outputs": [],
   "source": [
    "# from torch_geometric.loader import DataLoader"
   ]
  },
  {
   "cell_type": "code",
   "execution_count": 14,
   "id": "0bec5675-52dc-4d0a-96d0-c52c16f20d81",
   "metadata": {},
   "outputs": [],
   "source": [
    "# loader = DataLoader(graphs, batch_size=2)"
   ]
  },
  {
   "cell_type": "code",
   "execution_count": null,
   "id": "1506afa6-9d95-4ded-a851-69acb5d6932e",
   "metadata": {},
   "outputs": [],
   "source": []
  },
  {
   "cell_type": "code",
   "execution_count": 15,
   "id": "e46f79b7-0dac-4334-a5e4-a80e40b69f49",
   "metadata": {},
   "outputs": [
    {
     "data": {
      "text/plain": [
       "<AxesSubplot: xlabel='perturb', ylabel='acc'>"
      ]
     },
     "execution_count": 15,
     "metadata": {},
     "output_type": "execute_result"
    },
    {
     "data": {
      "image/png": "[encoded data removed]",
      "text/plain": [
       "<Figure size 640x480 with 1 Axes>"
      ]
     },
     "metadata": {},
     "output_type": "display_data"
    }
   ],
   "source": [
    "import seaborn as sns\n",
    "\n",
    "sns.scatterplot(stats, x='perturb', y='acc')"
   ]
  },
  {
   "cell_type": "code",
   "execution_count": null,
   "id": "cf14a4f4-fc6d-42ca-9b45-257730ad9240",
   "metadata": {},
   "outputs": [],
   "source": []
  },
  {
   "cell_type": "code",
   "execution_count": null,
   "id": "278d782c-3563-4c8a-8ad8-80f4ed98cc61",
   "metadata": {},
   "outputs": [],
   "source": []
  }
 ],
 "metadata": {
  "kernelspec": {
   "display_name": "Python 3 (ipykernel)",
   "language": "python",
   "name": "python3"
  },
  "language_info": {
   "codemirror_mode": {
    "name": "ipython",
    "version": 3
   },
   "file_extension": ".py",
   "mimetype": "text/x-python",
   "name": "python",
   "nbconvert_exporter": "python",
   "pygments_lexer": "ipython3",
   "version": "3.8.15"
  }
 },
 "nbformat": 4,
 "nbformat_minor": 5
}
