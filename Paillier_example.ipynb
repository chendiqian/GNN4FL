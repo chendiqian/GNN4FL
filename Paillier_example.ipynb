{
 "cells": [
  {
   "cell_type": "code",
   "execution_count": 57,
   "id": "23fd0b34-7e7c-4daf-9e79-3bf11a71b92f",
   "metadata": {
    "tags": []
   },
   "outputs": [],
   "source": [
    "from phe import paillier\n",
    "import math\n",
    "import numpy as np"
   ]
  },
  {
   "cell_type": "code",
   "execution_count": 58,
   "id": "9447ed6f-b075-4f35-8a7a-75d9a7b88f52",
   "metadata": {
    "tags": []
   },
   "outputs": [],
   "source": [
    "# public_key, private_key = paillier.generate_paillier_keypair(private_keyring=None, n_length=DEFAULT_KEYSIZE)\n",
    "public_key, private_key = paillier.generate_paillier_keypair(n_length=512)"
   ]
  },
  {
   "cell_type": "code",
   "execution_count": 59,
   "id": "74c96911-bee6-4fdd-8b14-7b72b37f609f",
   "metadata": {
    "tags": []
   },
   "outputs": [
    {
     "data": {
      "text/plain": [
       "6911004744749112573188092746634305214481886195608420259198525386445745819406015108929991618364631768560341960149016989406518314544873478731070039071433213"
      ]
     },
     "execution_count": 59,
     "metadata": {},
     "output_type": "execute_result"
    }
   ],
   "source": [
    "public_key.n"
   ]
  },
  {
   "cell_type": "code",
   "execution_count": 60,
   "id": "36c9e315-b4b9-46f7-9c63-0363c28ed458",
   "metadata": {},
   "outputs": [],
   "source": [
    "m1 = -1.45137317\n",
    "c1 = public_key.encrypt(m)"
   ]
  },
  {
   "cell_type": "code",
   "execution_count": 62,
   "id": "17048d73-2046-4bb5-b83d-1a2ba0cd194e",
   "metadata": {
    "tags": []
   },
   "outputs": [
    {
     "data": {
      "text/plain": [
       "{'public_key': <PaillierPublicKey 137569b749>,\n",
       " '_EncryptedNumber__ciphertext': 8548632557510074351409934434132157854166161182177901194569809206007927703470255455204957133925465490273424871116383364573980952473617079526701815700977796917311023876220811747480133565412385864850720621468115480435655025544626795386976832961746829501229506495924617870222976092010246550891239450398260147067,\n",
       " 'exponent': -13,\n",
       " '_EncryptedNumber__is_obfuscated': True}"
      ]
     },
     "execution_count": 62,
     "metadata": {},
     "output_type": "execute_result"
    }
   ],
   "source": [
    "c1.__dict__"
   ]
  },
  {
   "cell_type": "code",
   "execution_count": 61,
   "id": "4e12a86b-1834-47fb-9e7e-591a5195a204",
   "metadata": {
    "tags": []
   },
   "outputs": [
    {
     "data": {
      "text/plain": [
       "(int, int)"
      ]
     },
     "execution_count": 61,
     "metadata": {},
     "output_type": "execute_result"
    }
   ],
   "source": [
    "type(c1.exponent), type(c1._EncryptedNumber__ciphertext)"
   ]
  },
  {
   "cell_type": "code",
   "execution_count": 34,
   "id": "ecf3a744-2676-437b-8954-c9ff3cfe487d",
   "metadata": {
    "tags": []
   },
   "outputs": [
    {
     "name": "stdout",
     "output_type": "stream",
     "text": [
      "m1_decrypted = -1.45137317, m1 = -1.45137317\n"
     ]
    }
   ],
   "source": [
    "m1_decrypted = private_key.decrypt(c1)\n",
    "print(f\"m1_decrypted = {m1_decrypted}, m1 = {m1}\")"
   ]
  },
  {
   "cell_type": "code",
   "execution_count": 39,
   "id": "ed576c7a-e864-4583-a78b-6829559100ba",
   "metadata": {
    "tags": []
   },
   "outputs": [],
   "source": [
    "m2 = 0.14925624\n",
    "c2 = public_key.encrypt(m2)"
   ]
  },
  {
   "cell_type": "code",
   "execution_count": 40,
   "id": "cc927b06-87cb-45d9-8251-0da1ae981b73",
   "metadata": {
    "tags": []
   },
   "outputs": [
    {
     "name": "stdout",
     "output_type": "stream",
     "text": [
      "cSum.public_key = <PaillierPublicKey 196c6386bc>\n",
      "cSum.exponent = -14\n",
      "cSum.ciphertext = 36809035865840378523359818521963964104302998918031655180873724602823229061680544618133648617385969593501153043556944618800298622302266349572887737989815434492034377735239625352672166122551264957054526129073344029437851335550926136655542689496033507979722767155337611189686460772750406239411251426590264599916\n"
     ]
    }
   ],
   "source": [
    "cSum = c1 + c2\n",
    "cSum.__dict__"
   ]
  },
  {
   "cell_type": "code",
   "execution_count": 41,
   "id": "738ad844-af69-4a97-b701-ea2dda744b22",
   "metadata": {
    "tags": []
   },
   "outputs": [
    {
     "name": "stdout",
     "output_type": "stream",
     "text": [
      "mSum_decrypted = -1.3021169300000002, mSum = -1.3021169300000002\n"
     ]
    }
   ],
   "source": [
    "mSum_decrypted = private_key.decrypt(cSum)\n",
    "mSum = m1 + m2\n",
    "print(f\"mSum_decrypted = {mSum_decrypted}, mSum = {mSum}\")"
   ]
  },
  {
   "cell_type": "code",
   "execution_count": 42,
   "id": "e7b3d220-2cf9-4bc8-8040-807a6a0e70a4",
   "metadata": {
    "tags": []
   },
   "outputs": [
    {
     "name": "stdout",
     "output_type": "stream",
     "text": [
      "mPro_decrypted = -0.435411951, mPro = -0.435411951\n"
     ]
    }
   ],
   "source": [
    "plaintext = 0.3\n",
    "cPro = plaintext * c1\n",
    "mPro_decrypted = private_key.decrypt(cPro)\n",
    "mPro = plaintext * m1\n",
    "print(f\"mPro_decrypted = {mPro_decrypted}, mPro = {mPro}\")"
   ]
  },
  {
   "cell_type": "code",
   "execution_count": 52,
   "id": "c420aaae-8d40-4b5f-ba95-9083e246798a",
   "metadata": {
    "tags": []
   },
   "outputs": [],
   "source": [
    "x = np.array([  -1.45137317,   -1.49576855,   -1.39981203,   -4.11364694,\n",
    "         -0.83627003,    0.14925624,    0.55631944,   -0.98583421,\n",
    "         -2.58259472,   -2.75269436, -146.1025641 ])\n",
    "cx = [public_key.encrypt(i) for i in x]"
   ]
  },
  {
   "cell_type": "code",
   "execution_count": 56,
   "id": "be946206-6b3b-4d6f-b93a-edb2b913e70a",
   "metadata": {
    "tags": []
   },
   "outputs": [
    {
     "name": "stdout",
     "output_type": "stream",
     "text": [
      "x = [  -1.45137317   -1.49576855   -1.39981203   -4.11364694   -0.83627003\n",
      "    0.14925624    0.55631944   -0.98583421   -2.58259472   -2.75269436\n",
      " -146.1025641 ]\n",
      "cx_decrpted = [  -1.45137317   -1.49576855   -1.39981203   -4.11364694   -0.83627003\n",
      "    0.14925624    0.55631944   -0.98583421   -2.58259472   -2.75269436\n",
      " -146.1025641 ]\n",
      "[ True  True  True  True  True  True  True  True  True  True  True]\n"
     ]
    }
   ],
   "source": [
    "cx_decrypted = np.array([private_key.decrypt(i) for i in cx])\n",
    "print(f\"x = {x}\")\n",
    "print(f\"cx_decrpted = {cx_decrypted}\")\n",
    "print(cx_decrypted == x)"
   ]
  },
  {
   "cell_type": "code",
   "execution_count": null,
   "id": "f77186e9-fc5f-4f41-90a3-12775c401c71",
   "metadata": {},
   "outputs": [],
   "source": []
  }
 ],
 "metadata": {
  "kernelspec": {
   "display_name": "Python 3 (ipykernel)",
   "language": "python",
   "name": "python3"
  },
  "language_info": {
   "codemirror_mode": {
    "name": "ipython",
    "version": 3
   },
   "file_extension": ".py",
   "mimetype": "text/x-python",
   "name": "python",
   "nbconvert_exporter": "python",
   "pygments_lexer": "ipython3",
   "version": "3.8.16"
  }
 },
 "nbformat": 4,
 "nbformat_minor": 5
}
