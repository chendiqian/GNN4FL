{
 "cells": [
  {
   "cell_type": "code",
   "execution_count": 1,
   "id": "0e3674f4-adf4-4d7e-9511-85f9c2d31cc3",
   "metadata": {},
   "outputs": [],
   "source": [
    "from phe import paillier\n",
    "import json\n",
    "import numpy as np"
   ]
  },
  {
   "cell_type": "code",
   "execution_count": null,
   "id": "8b7268a2-1550-45b9-9cb8-d1fc99dd9481",
   "metadata": {},
   "outputs": [],
   "source": [
    "from sys import getsizeof"
   ]
  },
  {
   "cell_type": "markdown",
   "id": "1e616d1b-b48e-4fef-af45-c15ab54c2bfa",
   "metadata": {},
   "source": [
    "## CNN model familiarity ##"
   ]
  },
  {
   "cell_type": "code",
   "execution_count": 2,
   "id": "96cd4895-d316-466e-ba72-29afde9f03c5",
   "metadata": {
    "tags": []
   },
   "outputs": [],
   "source": [
    "import torch\n",
    "import torch.nn as nn\n",
    "import torch.nn.functional as F"
   ]
  },
  {
   "cell_type": "code",
   "execution_count": 3,
   "id": "15faf012-9c2d-4197-9eb5-93980f291e8a",
   "metadata": {
    "tags": []
   },
   "outputs": [],
   "source": [
    "class MNIST_CNN(nn.Module):\n",
    "    def __init__(self):\n",
    "        super().__init__()\n",
    "        self.conv1 = nn.Conv2d(1, 16, 3)\n",
    "        self.pool = nn.MaxPool2d(2, 2)\n",
    "        self.conv2 = nn.Conv2d(16, 16, 3)\n",
    "        self.fc1 = nn.Linear(400, 64)\n",
    "        self.fc2 = nn.Linear(64, 10)\n",
    "\n",
    "    def forward(self, x):\n",
    "        x = self.pool(F.relu(self.conv1(x)))\n",
    "        x = self.pool(F.relu(self.conv2(x)))\n",
    "        x = torch.flatten(x, 1) # flatten all dimensions except batch\n",
    "        x = F.relu(self.fc1(x))\n",
    "        x = F.dropout(x, p=0.5, training=self.training)\n",
    "        x = self.fc2(x)\n",
    "        return x\n",
    "\n",
    "    def reset_parameters(self, seed=None):\n",
    "        if seed is not None:\n",
    "            torch.manual_seed(seed)\n",
    "            torch.cuda.manual_seed(seed)\n",
    "\n",
    "        self.conv1.reset_parameters()\n",
    "        self.conv2.reset_parameters()\n",
    "        self.fc1.reset_parameters()\n",
    "        self.fc2.reset_parameters()"
   ]
  },
  {
   "cell_type": "code",
   "execution_count": 4,
   "id": "0abca15a-bff7-4301-9cec-0ead61464b0f",
   "metadata": {},
   "outputs": [],
   "source": [
    "def dict_torch2list(dic):\n",
    "    dicc = dict()\n",
    "    for key, val in dic.items():\n",
    "        dicc[key] = val.tolist().copy()\n",
    "    return dicc\n",
    "\n",
    "def dict_torch2ndarray(dic):\n",
    "    dicc = dict()\n",
    "    for key, val in dic.items():\n",
    "        dicc[key] = val.numpy().copy()\n",
    "    return dicc\n",
    "\n",
    "def dict_list2torch(dic):\n",
    "    dicc = dict()\n",
    "    for key, val in dic.items():\n",
    "        dicc[key] = torch.tensor(val, dtype=torch.float32)\n",
    "    return dicc\n",
    "\n",
    "def dict_list2ndarray(dic):\n",
    "    dicc = dict()\n",
    "    for key, val in dic.items():\n",
    "        dicc[key] = np.array(val)\n",
    "    return dicc\n",
    "\n",
    "def dict_ndarray2list(dic):\n",
    "    dicc = dict()\n",
    "    for key, val in dic.items():\n",
    "        dicc[key] = val.tolist().copy()\n",
    "    return dicc"
   ]
  },
  {
   "cell_type": "code",
   "execution_count": 5,
   "id": "cbbf622d-8fd2-4533-8fd9-17ff526dd0c5",
   "metadata": {},
   "outputs": [],
   "source": [
    "cnn = MNIST_CNN()"
   ]
  },
  {
   "cell_type": "code",
   "execution_count": 6,
   "id": "0d5b8293-d912-4eaf-a98c-33ed819cd065",
   "metadata": {},
   "outputs": [],
   "source": [
    "cnn_weights = cnn.state_dict()"
   ]
  },
  {
   "cell_type": "code",
   "execution_count": 7,
   "id": "e0ccd01c-837c-405a-9bb6-a1fc164d3c5b",
   "metadata": {
    "tags": []
   },
   "outputs": [
    {
     "data": {
      "text/plain": [
       "odict_keys(['conv1.weight', 'conv1.bias', 'conv2.weight', 'conv2.bias', 'fc1.weight', 'fc1.bias', 'fc2.weight', 'fc2.bias'])"
      ]
     },
     "execution_count": 7,
     "metadata": {},
     "output_type": "execute_result"
    }
   ],
   "source": [
    "cnn_weights.keys()"
   ]
  },
  {
   "cell_type": "code",
   "execution_count": 8,
   "id": "fa1b77a7-0466-4e9d-a2ed-76668bd59473",
   "metadata": {
    "tags": []
   },
   "outputs": [
    {
     "data": {
      "text/plain": [
       "tensor([ 0.1128,  0.1921,  0.2129,  0.1063, -0.0257, -0.0294, -0.2667, -0.1411,\n",
       "         0.2175, -0.1596, -0.1805, -0.0074, -0.2530, -0.2745,  0.2855, -0.1332])"
      ]
     },
     "execution_count": 8,
     "metadata": {},
     "output_type": "execute_result"
    }
   ],
   "source": [
    "cnn_weights['conv1.bias']"
   ]
  },
  {
   "cell_type": "code",
   "execution_count": 9,
   "id": "c1a33a65-d2be-4657-b13b-e35ca3fb6ba3",
   "metadata": {
    "tags": []
   },
   "outputs": [
    {
     "data": {
      "text/plain": [
       "tensor(0.1128)"
      ]
     },
     "execution_count": 9,
     "metadata": {},
     "output_type": "execute_result"
    }
   ],
   "source": [
    "cnn_weights['conv1.bias'][0]"
   ]
  },
  {
   "cell_type": "code",
   "execution_count": 10,
   "id": "aabb53c5-81b7-468c-8559-29bb5c5eb515",
   "metadata": {
    "tags": []
   },
   "outputs": [
    {
     "data": {
      "text/plain": [
       "[144, 16, 2304, 16, 25600, 64, 640, 10]"
      ]
     },
     "execution_count": 10,
     "metadata": {},
     "output_type": "execute_result"
    }
   ],
   "source": [
    "elements_number = [p.data.nelement() for p in cnn.parameters()]\n",
    "elements_number"
   ]
  },
  {
   "cell_type": "code",
   "execution_count": 11,
   "id": "802d779f-df7d-40e7-b271-d04b11d23c7f",
   "metadata": {
    "tags": []
   },
   "outputs": [
    {
     "name": "stdout",
     "output_type": "stream",
     "text": [
      "the number of parameters is  28794\n"
     ]
    }
   ],
   "source": [
    "parameter = sum(elements_number)\n",
    "print(\"the number of parameters is \", parameter)"
   ]
  },
  {
   "cell_type": "code",
   "execution_count": 12,
   "id": "9f351b4f-e246-4c29-a230-5de5e73c7450",
   "metadata": {
    "tags": []
   },
   "outputs": [
    {
     "data": {
      "text/plain": [
       "collections.OrderedDict"
      ]
     },
     "execution_count": 12,
     "metadata": {},
     "output_type": "execute_result"
    }
   ],
   "source": [
    "type(cnn_weights)"
   ]
  },
  {
   "cell_type": "code",
   "execution_count": 13,
   "id": "9a1bc25a-6ba0-4097-a149-b56e82c9b534",
   "metadata": {},
   "outputs": [
    {
     "name": "stdout",
     "output_type": "stream",
     "text": [
      "conv1.weight: len 144, size 1934\n",
      "conv1.bias: len 16, size 160\n",
      "conv2.weight: len 2304, size 5695\n",
      "conv2.bias: len 16, size 160\n",
      "fc1.weight: len 25600, size 433\n",
      "fc1.bias: len 64, size 640\n",
      "fc2.weight: len 640, size 6490\n",
      "fc2.bias: len 10, size 106\n"
     ]
    }
   ],
   "source": [
    "# weight = dict_torch2list(cnn_weights)\n",
    "for key in cnn_weights.keys():\n",
    "    print(\"{}: len {}, size {}\".format(key, cnn_weights[key].data.nelement(), len(str(cnn_weights[key]))))"
   ]
  },
  {
   "cell_type": "code",
   "execution_count": null,
   "id": "6d7f0a91-c229-4204-999f-9dc6f3d22787",
   "metadata": {},
   "outputs": [],
   "source": []
  },
  {
   "cell_type": "markdown",
   "id": "ed22b8cd-9c40-4224-825e-a739c35b20e3",
   "metadata": {
    "tags": []
   },
   "source": [
    "## Data encryption ##"
   ]
  },
  {
   "cell_type": "code",
   "execution_count": 14,
   "id": "150c18c6-3386-4fc9-bdd5-53fa90383f25",
   "metadata": {
    "tags": []
   },
   "outputs": [],
   "source": [
    "public_key_original, private_key_original = paillier.generate_paillier_keypair(n_length=512)"
   ]
  },
  {
   "cell_type": "code",
   "execution_count": 15,
   "id": "850ede9d-274f-4688-9d48-1bafe138ff71",
   "metadata": {
    "tags": []
   },
   "outputs": [],
   "source": [
    "public_n = public_key_original.n\n",
    "private_p = private_key_original.p\n",
    "private_q = private_key_original.q"
   ]
  },
  {
   "cell_type": "code",
   "execution_count": 16,
   "id": "c50cee6b-b4c8-401b-8e94-bf465ac0b374",
   "metadata": {},
   "outputs": [
    {
     "name": "stdout",
     "output_type": "stream",
     "text": [
      "public_key.n = 11951472761197597613502804581251949257187495516037693104532153031415896029056891011736635494815939010021880947653253750116332613442250805735758286361146429\n",
      "private_key.p = 108475715452296325400439142182422482173260114210959121776000083324043999184437\n",
      "private_key.q = 110176482463058016717527413688327112115226958910616891565463619832916994103017\n"
     ]
    }
   ],
   "source": [
    "print(f\"public_key.n = {public_n}\")\n",
    "print(f\"private_key.p = {private_p}\")\n",
    "print(f\"private_key.q = {private_q}\")"
   ]
  },
  {
   "cell_type": "code",
   "execution_count": 17,
   "id": "44f5e53d-02b8-4aa2-bf3f-4938f679bec9",
   "metadata": {
    "tags": []
   },
   "outputs": [
    {
     "data": {
      "text/plain": [
       "torch.Size([16])"
      ]
     },
     "execution_count": 17,
     "metadata": {},
     "output_type": "execute_result"
    }
   ],
   "source": [
    "cnn_weights[\"conv1.bias\"].shape"
   ]
  },
  {
   "cell_type": "code",
   "execution_count": 18,
   "id": "96ec3916-f161-4749-9738-f2fca78bfe2d",
   "metadata": {
    "tags": []
   },
   "outputs": [
    {
     "name": "stdout",
     "output_type": "stream",
     "text": [
      "<class 'torch.Tensor'> <class 'float'> 0.11276400089263916\n"
     ]
    }
   ],
   "source": [
    "m = cnn_weights[\"conv1.bias\"][0]\n",
    "print(type(m), type(m.item()), m.item())\n",
    "c = public_key_original.encrypt(m.item())"
   ]
  },
  {
   "cell_type": "code",
   "execution_count": 19,
   "id": "a0c5f57a-61b8-4bcb-854f-18422cbea171",
   "metadata": {
    "tags": []
   },
   "outputs": [
    {
     "data": {
      "text/plain": [
       "(phe.paillier.EncryptedNumber,\n",
       " {'public_key': <PaillierPublicKey 182ca07bb7>,\n",
       "  '_EncryptedNumber__ciphertext': 103621878995487562753619177248491752670660608499180588582713991724924082630510941779462832645722105947365947883843181178245421574299903278181180385127578539753485181393877405765212745894536429461828800813968376907288116859997831157414142736177655896399940263208478857648679661389110664782866127854685164195596,\n",
       "  'exponent': -14,\n",
       "  '_EncryptedNumber__is_obfuscated': True})"
      ]
     },
     "execution_count": 19,
     "metadata": {},
     "output_type": "execute_result"
    }
   ],
   "source": [
    "type(c), c.__dict__"
   ]
  },
  {
   "cell_type": "code",
   "execution_count": 20,
   "id": "934e8187-6dea-4fd6-a8e7-3ab7691f887b",
   "metadata": {
    "tags": []
   },
   "outputs": [
    {
     "data": {
      "text/plain": [
       "('{\"c.c\": 103621878995487562753619177248491752670660608499180588582713991724924082630510941779462832645722105947365947883843181178245421574299903278181180385127578539753485181393877405765212745894536429461828800813968376907288116859997831157414142736177655896399940263208478857648679661389110664782866127854685164195596, \"c.exponent\": -14}',\n",
       " str)"
      ]
     },
     "execution_count": 20,
     "metadata": {},
     "output_type": "execute_result"
    }
   ],
   "source": [
    "c_tranS = json.dumps({\"c.c\": c._EncryptedNumber__ciphertext, \"c.exponent\": c.exponent})\n",
    "c_tranS, type(c_tranS)"
   ]
  },
  {
   "cell_type": "code",
   "execution_count": 26,
   "id": "e61c8d8b-9b54-47c3-9ad5-667af112fed2",
   "metadata": {
    "tags": []
   },
   "outputs": [
    {
     "data": {
      "text/plain": [
       "(337, 14, 24)"
      ]
     },
     "execution_count": 26,
     "metadata": {},
     "output_type": "execute_result"
    }
   ],
   "source": [
    "len(c_tranS), len(str(m)), len(c_tranS) // len(str(m))"
   ]
  },
  {
   "cell_type": "code",
   "execution_count": 27,
   "id": "991ba8a8-ae3c-47a1-948c-d9012591411c",
   "metadata": {
    "tags": []
   },
   "outputs": [
    {
     "data": {
      "text/plain": [
       "(386, 72)"
      ]
     },
     "execution_count": 27,
     "metadata": {},
     "output_type": "execute_result"
    }
   ],
   "source": [
    "getsizeof(c_tranS), getsizeof(m)"
   ]
  },
  {
   "cell_type": "code",
   "execution_count": 28,
   "id": "d2c63acf-2d44-433f-b83e-b2cfa824c46c",
   "metadata": {
    "tags": []
   },
   "outputs": [
    {
     "data": {
      "text/plain": [
       "<phe.paillier.EncryptedNumber at 0x7fc7755fe230>"
      ]
     },
     "execution_count": 28,
     "metadata": {},
     "output_type": "execute_result"
    }
   ],
   "source": [
    "c_tranR = eval(c_tranS)\n",
    "public_key = paillier.PaillierPublicKey(public_n)\n",
    "private_key = paillier.PaillierPrivateKey(public_key, private_p, private_q)\n",
    "c_tranR = paillier.EncryptedNumber(public_key=public_key, ciphertext=c_tranR[\"c.c\"], exponent=c_tranR[\"c.exponent\"])\n",
    "c_tranR"
   ]
  },
  {
   "cell_type": "code",
   "execution_count": 29,
   "id": "4e64ac9a-41ff-407f-a1a9-26fbc6e888d6",
   "metadata": {},
   "outputs": [
    {
     "name": "stdout",
     "output_type": "stream",
     "text": [
      "private_key.decrypt(cR) = 0.11276400089263916\n",
      "pri_key.decrypt(cR) = 0.11276400089263916\n",
      "m = 0.11276400089263916\n"
     ]
    }
   ],
   "source": [
    "print(f\"private_key.decrypt(cR) = {private_key_original.decrypt(c_tranR)}\")\n",
    "print(f\"pri_key.decrypt(cR) = {private_key.decrypt(c_tranR)}\")\n",
    "print(f\"m = {m}\")"
   ]
  },
  {
   "cell_type": "code",
   "execution_count": null,
   "id": "c100da4d-1b23-4f53-bb2d-43e405776d90",
   "metadata": {},
   "outputs": [],
   "source": []
  },
  {
   "cell_type": "markdown",
   "id": "d28f126f-603e-4680-8383-af02c10c9340",
   "metadata": {},
   "source": [
    "## Model encryption ## "
   ]
  },
  {
   "cell_type": "code",
   "execution_count": 30,
   "id": "9c7a0b49-9bcd-442f-9bde-a6d651f17640",
   "metadata": {
    "tags": []
   },
   "outputs": [
    {
     "data": {
      "text/plain": [
       "(torch.Tensor, numpy.ndarray)"
      ]
     },
     "execution_count": 30,
     "metadata": {},
     "output_type": "execute_result"
    }
   ],
   "source": [
    "cnn_weights_ndarray = dict_torch2ndarray(cnn_weights)\n",
    "type(cnn_weights[list(cnn_weights.keys())[0]]), type(cnn_weights_ndarray[list(cnn_weights.keys())[0]])"
   ]
  },
  {
   "cell_type": "code",
   "execution_count": 31,
   "id": "cc5929ed-d7a2-47e4-82fd-0626ab8bc985",
   "metadata": {
    "tags": []
   },
   "outputs": [
    {
     "name": "stdout",
     "output_type": "stream",
     "text": [
      "conv1.weight: shape (16, 1, 3, 3)\n",
      "conv1.bias: shape (16,)\n",
      "conv2.weight: shape (16, 16, 3, 3)\n",
      "conv2.bias: shape (16,)\n",
      "fc1.weight: shape (64, 400)\n",
      "fc1.bias: shape (64,)\n",
      "fc2.weight: shape (10, 64)\n",
      "fc2.bias: shape (10,)\n"
     ]
    }
   ],
   "source": [
    "for key in cnn_weights.keys():\n",
    "    print(\"{}: shape {}\".format(key, cnn_weights_ndarray[key].shape))"
   ]
  },
  {
   "cell_type": "code",
   "execution_count": 32,
   "id": "c205c79f-73a0-477f-a855-36235a20e8e1",
   "metadata": {},
   "outputs": [],
   "source": [
    "cnn_tran = dict()\n",
    "for key in cnn_weights.keys():\n",
    "    # if key!= \"conv1.weight\":\n",
    "    #     continue\n",
    "    item_shape = cnn_weights_ndarray[key].shape\n",
    "    # print(key, item_shape)\n",
    "    weight = cnn_weights_ndarray[key].flatten()\n",
    "    weight_tran = np.ndarray(shape=weight.shape, dtype=object)\n",
    "    for idx in range(len(weight)):\n",
    "        item_c = public_key.encrypt(weight[idx].item())\n",
    "        item_cdict = {\"c.c\": item_c._EncryptedNumber__ciphertext, \"c.exponent\": item_c.exponent}\n",
    "        weight_tran[idx] = json.dumps(item_cdict)\n",
    "\n",
    "    weight_tran = weight_tran.reshape(item_shape)\n",
    "    # print(key, weight_tran.shape)\n",
    "    cnn_tran[key] = weight_tran.tolist() # list to json\n",
    "\n",
    "cnn_tranT = json.dumps(cnn_tran)"
   ]
  },
  {
   "cell_type": "code",
   "execution_count": 34,
   "id": "ddd49cad-26ae-4ca9-85aa-c00b575c9986",
   "metadata": {
    "tags": []
   },
   "outputs": [
    {
     "data": {
      "text/plain": [
       "(str, 9914017)"
      ]
     },
     "execution_count": 34,
     "metadata": {},
     "output_type": "execute_result"
    }
   ],
   "source": [
    "type(cnn_tranT), len(cnn_tranT),"
   ]
  },
  {
   "cell_type": "code",
   "execution_count": 33,
   "id": "a1601cfa-e183-4dce-950e-725c0fefef4a",
   "metadata": {
    "tags": []
   },
   "outputs": [
    {
     "data": {
      "text/plain": [
       "(torch.Tensor, numpy.ndarray)"
      ]
     },
     "execution_count": 33,
     "metadata": {},
     "output_type": "execute_result"
    }
   ],
   "source": [
    "cnn_tt = json.dumps(dict_torch2list(cnn_weights))\n",
    "type(cnn_weights[list(cnn_weights.keys())[0]]), type(cnn_weights_ndarray[list(cnn_weights.keys())[0]])"
   ]
  },
  {
   "cell_type": "code",
   "execution_count": 35,
   "id": "57d7adf9-356a-4597-a279-53ed374916bf",
   "metadata": {
    "tags": []
   },
   "outputs": [
    {
     "data": {
      "text/plain": [
       "(9914017, 638538, 15)"
      ]
     },
     "execution_count": 35,
     "metadata": {},
     "output_type": "execute_result"
    }
   ],
   "source": [
    "len(cnn_tranT), len(cnn_tt), len(cnn_tranT) // len(cnn_tt)"
   ]
  },
  {
   "cell_type": "code",
   "execution_count": 36,
   "id": "70cfd64a-51b5-4bca-8e07-75275d9247ac",
   "metadata": {
    "tags": []
   },
   "outputs": [
    {
     "data": {
      "text/plain": [
       "(9914066, 638587, 15)"
      ]
     },
     "execution_count": 36,
     "metadata": {},
     "output_type": "execute_result"
    }
   ],
   "source": [
    "getsizeof(cnn_tranT), getsizeof(cnn_tt),  getsizeof(cnn_tranT) // getsizeof(cnn_tt)"
   ]
  },
  {
   "cell_type": "code",
   "execution_count": 41,
   "id": "a32af844-7182-4d75-be26-f7d94eff556c",
   "metadata": {
    "tags": []
   },
   "outputs": [
    {
     "data": {
      "text/plain": [
       "0.609004020690918"
      ]
     },
     "execution_count": 41,
     "metadata": {},
     "output_type": "execute_result"
    }
   ],
   "source": [
    "getsizeof(cnn_tt) / 2 ** 20 # MB"
   ]
  },
  {
   "cell_type": "code",
   "execution_count": 40,
   "id": "8b0c5087-9b54-4de3-b603-2c4a3d7b362d",
   "metadata": {
    "tags": []
   },
   "outputs": [
    {
     "data": {
      "text/plain": [
       "9.454790115356445"
      ]
     },
     "execution_count": 40,
     "metadata": {},
     "output_type": "execute_result"
    }
   ],
   "source": [
    "getsizeof(cnn_tranT) / 2 ** 20 # MB"
   ]
  },
  {
   "cell_type": "code",
   "execution_count": 39,
   "id": "f260090e-8917-414d-ac65-44acdb12b5a3",
   "metadata": {},
   "outputs": [],
   "source": [
    "filename = 'numbers.json'          #use the file extension .json\n",
    "with open(filename, 'w') as file_object:  #open the file in write mode\n",
    "     json.dump(cnn_tran, file_object) "
   ]
  },
  {
   "cell_type": "markdown",
   "id": "2d3816b5-3849-4de0-b839-480b19e0aea0",
   "metadata": {
    "tags": []
   },
   "source": [
    "## Model decryption ##"
   ]
  },
  {
   "cell_type": "code",
   "execution_count": 30,
   "id": "6e74b509-7ab5-42f7-894c-d9373554edde",
   "metadata": {
    "tags": []
   },
   "outputs": [
    {
     "data": {
      "text/plain": [
       "(8237232322313063965353663951081499682802714993853141538751222907688929968437769505905324851924365806569664788216338294942446346850676808644739425198080881,\n",
       " 77171773208882469711442311217589312963287309451585340071767599217436363073131,\n",
       " 106738927716707676646701410763274229341606917387697421075118813894364044975251)"
      ]
     },
     "execution_count": 30,
     "metadata": {},
     "output_type": "execute_result"
    }
   ],
   "source": [
    "public_n, private_p, private_q"
   ]
  },
  {
   "cell_type": "code",
   "execution_count": 31,
   "id": "8eb3bbd9-d729-48b9-9f4c-0dc7c0dca0e3",
   "metadata": {
    "tags": []
   },
   "outputs": [],
   "source": [
    "public_key = paillier.PaillierPublicKey(public_n)\n",
    "private_key = paillier.PaillierPrivateKey(public_key, private_p, private_q)"
   ]
  },
  {
   "cell_type": "code",
   "execution_count": 32,
   "id": "938d2515-958b-4a34-a382-bce3d170dc57",
   "metadata": {
    "tags": []
   },
   "outputs": [
    {
     "data": {
      "text/plain": [
       "numpy.ndarray"
      ]
     },
     "execution_count": 32,
     "metadata": {},
     "output_type": "execute_result"
    }
   ],
   "source": [
    "cnn_tranR = eval(cnn_tranT)\n",
    "cnn_tranR_ndarray = dict_list2ndarray(cnn_tranR)\n",
    "type(cnn_tranR_ndarray[list(cnn_weights.keys())[0]])"
   ]
  },
  {
   "cell_type": "code",
   "execution_count": 33,
   "id": "bdeb2d9e-a356-4a4e-b08e-bac629353c7e",
   "metadata": {
    "tags": []
   },
   "outputs": [
    {
     "data": {
      "text/plain": [
       "{'c.c': 63297438159577890125118826110131942546593955719990538794282029002440899072231500532553270704245656897460902377955313139656928792353842969182000070971255480994464737069391250876559944835216198973269870739169546237830707305367468387592806512580804035326679977362786978160090212629981373660128223620872451406924,\n",
       " 'c.exponent': -14}"
      ]
     },
     "execution_count": 33,
     "metadata": {},
     "output_type": "execute_result"
    }
   ],
   "source": [
    "eval(cnn_tranR_ndarray[\"conv1.bias\"][0])"
   ]
  },
  {
   "cell_type": "code",
   "execution_count": 34,
   "id": "2c29d6df-018d-4cc8-b2a0-65bb43a9873e",
   "metadata": {
    "tags": []
   },
   "outputs": [
    {
     "name": "stdout",
     "output_type": "stream",
     "text": [
      "-0.1534585952758789\n",
      "-0.2859039008617401\n",
      "0.31541329622268677\n",
      "-0.04030021280050278\n",
      "-0.2303357571363449\n",
      "0.09035905450582504\n",
      "0.32311075925827026\n",
      "-0.2328120917081833\n",
      "0.2606666684150696\n",
      "0.08666690438985825\n",
      "-0.14129070937633514\n",
      "-0.015476226806640625\n",
      "0.2905166745185852\n",
      "0.19128283858299255\n",
      "0.027414720505475998\n",
      "0.255606472492218\n",
      "[-0.1534586  -0.2859039   0.3154133  -0.04030021 -0.23033576  0.09035905\n",
      "  0.32311076 -0.23281209  0.26066667  0.0866669  -0.14129071 -0.01547623\n",
      "  0.29051667  0.19128284  0.02741472  0.25560647] <class 'numpy.ndarray'>\n",
      "tensor([-0.1535, -0.2859,  0.3154, -0.0403, -0.2303,  0.0904,  0.3231, -0.2328,\n",
      "         0.2607,  0.0867, -0.1413, -0.0155,  0.2905,  0.1913,  0.0274,  0.2556])\n"
     ]
    }
   ],
   "source": [
    "cnn_rec = dict()\n",
    "\n",
    "for key in cnn_tranR_ndarray.keys():    \n",
    "    if key != \"conv1.bias\":\n",
    "        continue\n",
    "    item_shape = cnn_tranR_ndarray[key].shape\n",
    "    weight_tranT = cnn_tranR_ndarray[key].flatten()\n",
    "    weight_tranR = np.ndarray(shape=weight_tranT.shape, dtype=float)\n",
    "    for idx in range(len(weight_tranT)):        \n",
    "        item_tranR = eval(weight_tranT[idx])\n",
    "        item_c = paillier.EncryptedNumber(public_key=public_key, ciphertext=item_tranR[\"c.c\"], exponent=item_tranR[\"c.exponent\"])\n",
    "        weight_tranR[idx] = private_key.decrypt(item_c)\n",
    "        print(weight_tranR[idx])\n",
    "        # print(type(weight_tranR[idx]))\n",
    "    weight_tranR = weight_tranR.reshape(item_shape)\n",
    "    print(weight_tranR, type(weight_tranR))\n",
    "    # print(strArr.shape)\n",
    "    cnn_rec[key] = weight_tranR\n",
    "    print(cnn_weights[\"conv1.bias\"])"
   ]
  },
  {
   "cell_type": "code",
   "execution_count": 35,
   "id": "11f18c09-9a30-4d2a-8114-45e582f15e5a",
   "metadata": {
    "tags": []
   },
   "outputs": [
    {
     "data": {
      "text/plain": [
       "{'conv1.bias': array([-0.1534586 , -0.2859039 ,  0.3154133 , -0.04030021, -0.23033576,\n",
       "         0.09035905,  0.32311076, -0.23281209,  0.26066667,  0.0866669 ,\n",
       "        -0.14129071, -0.01547623,  0.29051667,  0.19128284,  0.02741472,\n",
       "         0.25560647])}"
      ]
     },
     "execution_count": 35,
     "metadata": {},
     "output_type": "execute_result"
    }
   ],
   "source": [
    "cnn_rec"
   ]
  },
  {
   "cell_type": "code",
   "execution_count": 47,
   "id": "156ddd5e-241e-4d9e-ad9d-105fae33ae8b",
   "metadata": {
    "tags": []
   },
   "outputs": [
    {
     "data": {
      "text/plain": [
       "array([ True,  True,  True,  True,  True,  True,  True,  True,  True,\n",
       "        True,  True,  True,  True,  True,  True,  True])"
      ]
     },
     "execution_count": 47,
     "metadata": {},
     "output_type": "execute_result"
    }
   ],
   "source": [
    "np.array(cnn_rec['conv1.bias']) == cnn_weights_ndarray['conv1.bias']"
   ]
  },
  {
   "cell_type": "code",
   "execution_count": 37,
   "id": "53c33a7f-c9d5-4698-b1a0-cc36bfa519e5",
   "metadata": {
    "tags": []
   },
   "outputs": [
    {
     "data": {
      "text/plain": [
       "tensor([-0.1535, -0.2859,  0.3154, -0.0403, -0.2303,  0.0904,  0.3231, -0.2328,\n",
       "         0.2607,  0.0867, -0.1413, -0.0155,  0.2905,  0.1913,  0.0274,  0.2556])"
      ]
     },
     "execution_count": 37,
     "metadata": {},
     "output_type": "execute_result"
    }
   ],
   "source": [
    "cnn_weights['conv1.bias']"
   ]
  },
  {
   "cell_type": "code",
   "execution_count": 38,
   "id": "e382d59f-98d3-48a4-a570-7e8f2b644b20",
   "metadata": {
    "tags": []
   },
   "outputs": [
    {
     "data": {
      "text/plain": [
       "array([-0.1534586 , -0.2859039 ,  0.3154133 , -0.04030021, -0.23033576,\n",
       "        0.09035905,  0.32311076, -0.23281209,  0.26066667,  0.0866669 ,\n",
       "       -0.14129071, -0.01547623,  0.29051667,  0.19128284,  0.02741472,\n",
       "        0.25560647])"
      ]
     },
     "execution_count": 38,
     "metadata": {},
     "output_type": "execute_result"
    }
   ],
   "source": [
    "cnn_rec['conv1.bias']"
   ]
  },
  {
   "cell_type": "code",
   "execution_count": 39,
   "id": "5cc0fd53-05ba-4ab0-abce-cec78d3035f2",
   "metadata": {
    "tags": []
   },
   "outputs": [
    {
     "name": "stdout",
     "output_type": "stream",
     "text": [
      "conv1.bias <class 'numpy.ndarray'> (16,)\n",
      "conv1.bias <class 'torch.Tensor'> torch.Size([16])\n"
     ]
    }
   ],
   "source": [
    "for key in cnn_rec.keys():\n",
    "    print(key, type(cnn_rec[key]), cnn_rec[key].shape)\n",
    "    print(key, type(cnn_weights[key]), cnn_weights[key].shape)"
   ]
  },
  {
   "cell_type": "markdown",
   "id": "2841ac4f-f709-4132-b590-160a8aa8fff2",
   "metadata": {},
   "source": [
    "## Model aggregation ##"
   ]
  },
  {
   "cell_type": "code",
   "execution_count": null,
   "id": "79105602-7696-4e82-9d9b-78996030be67",
   "metadata": {},
   "outputs": [],
   "source": []
  },
  {
   "cell_type": "code",
   "execution_count": null,
   "id": "da0ccbcb-ddf3-4f68-a3b4-207cf6b1c3bd",
   "metadata": {},
   "outputs": [],
   "source": []
  },
  {
   "cell_type": "code",
   "execution_count": null,
   "id": "55ddca54-07eb-40c8-8a77-7977e08fab7f",
   "metadata": {},
   "outputs": [],
   "source": []
  },
  {
   "cell_type": "code",
   "execution_count": null,
   "id": "819b5a63-ddda-409f-ab79-a5ce78e1a0db",
   "metadata": {},
   "outputs": [],
   "source": []
  },
  {
   "cell_type": "code",
   "execution_count": null,
   "id": "ff939e09-db28-4ad6-8d30-dbe1d9680633",
   "metadata": {},
   "outputs": [],
   "source": []
  },
  {
   "cell_type": "markdown",
   "id": "29a62f08-e45a-46fa-93ff-4b307a0fb9c7",
   "metadata": {},
   "source": [
    "## Appendix ##"
   ]
  },
  {
   "cell_type": "code",
   "execution_count": 40,
   "id": "2ab9afa0-4441-4d9e-8d29-17135e5d739e",
   "metadata": {},
   "outputs": [
    {
     "data": {
      "text/plain": [
       "'[\"AA\", \"bb\"]'"
      ]
     },
     "execution_count": 40,
     "metadata": {},
     "output_type": "execute_result"
    }
   ],
   "source": [
    "itee = [\"AA\", \"bb\"]\n",
    "json.dumps(itee)"
   ]
  },
  {
   "cell_type": "code",
   "execution_count": 41,
   "id": "a7b97d8f-b0ef-4927-b1c1-6ef50c7fb536",
   "metadata": {},
   "outputs": [
    {
     "data": {
      "text/plain": [
       "(array([1, 2, 3, 4]),\n",
       " (2, 2),\n",
       " array([[1, 2],\n",
       "        [3, 4]]))"
      ]
     },
     "execution_count": 41,
     "metadata": {},
     "output_type": "execute_result"
    }
   ],
   "source": [
    "a = np.array([[1, 2], [3, 4]])\n",
    "it = a.shape\n",
    "a.flatten(), it, a"
   ]
  },
  {
   "cell_type": "code",
   "execution_count": 42,
   "id": "03f6f13e-36b6-4b8d-a286-e0e63403a8d2",
   "metadata": {},
   "outputs": [
    {
     "data": {
      "text/plain": [
       "array([[1, 2],\n",
       "       [3, 4]])"
      ]
     },
     "execution_count": 42,
     "metadata": {},
     "output_type": "execute_result"
    }
   ],
   "source": [
    "a.reshape(it)"
   ]
  },
  {
   "cell_type": "code",
   "execution_count": 43,
   "id": "43eda1c6-47b8-4dbf-a33c-36644b64617d",
   "metadata": {},
   "outputs": [],
   "source": [
    "# what is in the parameters?\n",
    "# how to encrypt them?\n",
    "# size calculation"
   ]
  }
 ],
 "metadata": {
  "kernelspec": {
   "display_name": "Python 3 (ipykernel)",
   "language": "python",
   "name": "python3"
  },
  "language_info": {
   "codemirror_mode": {
    "name": "ipython",
    "version": 3
   },
   "file_extension": ".py",
   "mimetype": "text/x-python",
   "name": "python",
   "nbconvert_exporter": "python",
   "pygments_lexer": "ipython3",
   "version": "3.10.9"
  }
 },
 "nbformat": 4,
 "nbformat_minor": 5
}
