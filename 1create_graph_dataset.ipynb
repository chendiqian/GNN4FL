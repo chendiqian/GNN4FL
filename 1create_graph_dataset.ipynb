{
 "cells": [
  {
   "cell_type": "code",
   "execution_count": 1,
   "id": "a829a10b-d8b0-43e0-9a44-3ceb4b1d3b1a",
   "metadata": {
    "tags": []
   },
   "outputs": [],
   "source": [
    "import torch\n",
    "import numpy as np\n",
    "from tqdm import tqdm\n",
    "from torch_geometric.data import HeteroData\n",
    "import os"
   ]
  },
  {
   "cell_type": "code",
   "execution_count": 2,
   "id": "fbbd3dcc-0d61-4ad7-aec8-277ea2b8cccc",
   "metadata": {
    "tags": []
   },
   "outputs": [],
   "source": [
    "from customed_datasets.weight_datasets import PretrainedWeights, AdditiveNoise, SignFlip"
   ]
  },
  {
   "cell_type": "code",
   "execution_count": 3,
   "id": "776a9ab5-4b0a-43d7-9c75-eb0cf637a3d8",
   "metadata": {
    "tags": []
   },
   "outputs": [],
   "source": [
    "weights_dataset = PretrainedWeights('datasets/PretrainedWeights/', transform=AdditiveNoise(0.3, 0.3))\n",
    "weights_loader = torch.utils.data.DataLoader(weights_dataset, batch_size=50, shuffle=True)"
   ]
  },
  {
   "cell_type": "code",
   "execution_count": null,
   "id": "c8a9e14f-3133-43d1-9631-888c97a3c88e",
   "metadata": {},
   "outputs": [],
   "source": []
  },
  {
   "cell_type": "code",
   "execution_count": 4,
   "id": "84f1a4b7-1be2-494c-a90c-a71f6fba0383",
   "metadata": {
    "tags": []
   },
   "outputs": [],
   "source": [
    "import torchvision.transforms as transforms\n",
    "from torchvision.datasets import MNIST\n",
    "\n",
    "transform = transforms.Compose(\n",
    "    [transforms.ToTensor(),\n",
    "     transforms.Normalize((0.5,), (0.5,))])\n",
    "mnist = MNIST('./datasets', train=False, download=True, transform=transform)\n",
    "\n",
    "valset = torch.utils.data.Subset(mnist, np.random.randint(0, len(mnist), 2000))\n",
    "mnistloader = torch.utils.data.DataLoader(valset, batch_size=256, shuffle=True)"
   ]
  },
  {
   "cell_type": "code",
   "execution_count": 5,
   "id": "7b279ed2-a061-4e63-900d-f6eb505c3a2b",
   "metadata": {
    "tags": []
   },
   "outputs": [],
   "source": [
    "from models.mnist_cnn import MNIST_CNN\n",
    "\n",
    "mnist_cnn = MNIST_CNN()"
   ]
  },
  {
   "cell_type": "code",
   "execution_count": null,
   "id": "52d46663-e9ec-4de2-9041-0b8dccddd14d",
   "metadata": {},
   "outputs": [],
   "source": []
  },
  {
   "cell_type": "code",
   "execution_count": 6,
   "id": "031c4acb-33f9-4e7e-aa49-9a7c91e89a32",
   "metadata": {
    "tags": []
   },
   "outputs": [],
   "source": [
    "epochs = 200"
   ]
  },
  {
   "cell_type": "code",
   "execution_count": 7,
   "id": "dc69f145-dd33-4dfd-a2f9-1b49a658a329",
   "metadata": {
    "tags": []
   },
   "outputs": [],
   "source": [
    "num_aggr = 20"
   ]
  },
  {
   "cell_type": "code",
   "execution_count": 8,
   "id": "9caba220-2057-4ee8-a4e3-b4da2f8a136a",
   "metadata": {
    "tags": []
   },
   "outputs": [],
   "source": [
    "from utils.fl_utils import fed_avg\n",
    "from train_val import mnist_validation"
   ]
  },
  {
   "cell_type": "code",
   "execution_count": 9,
   "id": "46c785a6-6c32-452b-9985-6669fb03caf6",
   "metadata": {
    "tags": []
   },
   "outputs": [],
   "source": [
    "stats = {'perturb': [], 'acc': []}"
   ]
  },
  {
   "cell_type": "code",
   "execution_count": null,
   "id": "a695b57a-f069-4b1a-9148-e736f6334d91",
   "metadata": {
    "tags": []
   },
   "outputs": [],
   "source": []
  },
  {
   "cell_type": "code",
   "execution_count": null,
   "id": "99c48a15-dfbf-405e-b1e7-be38cb8e63e0",
   "metadata": {
    "tags": []
   },
   "outputs": [],
   "source": [
    "for num_aggr in [5, 10, 20]:\n",
    "    root = f'./datasets/GraphDatasets{num_aggr}perAggr/'\n",
    "    os.mkdir(root)\n",
    "    for epoch in range(epochs):\n",
    "        pbar = tqdm(weights_loader)\n",
    "        for weights, labels in pbar:\n",
    "            accs = []\n",
    "            edges_rows = []\n",
    "            edges_cols = []\n",
    "            for aggr_idx in range(num_aggr):\n",
    "                selected_model_idx = np.sort(np.random.choice(50, size=num_aggr, replace=False))\n",
    "                edges_rows.append(selected_model_idx)\n",
    "                edges_cols.append(np.full(num_aggr, aggr_idx, dtype=selected_model_idx.dtype))\n",
    "                selected_weights = {k: w[selected_model_idx, ...] for k, w in weights.items()}\n",
    "\n",
    "                agg_weights = fed_avg(selected_weights)\n",
    "                mnist_cnn.load_state_dict(agg_weights)\n",
    "                acc = mnist_validation(mnistloader, mnist_cnn)\n",
    "                accs.append(acc)\n",
    "\n",
    "                perturb = 1 - labels[selected_model_idx].sum().item() / len(selected_model_idx)\n",
    "                pbar.set_postfix({'acc': acc, 'perturb rate': perturb})\n",
    "                stats['perturb'].append(perturb)\n",
    "                stats['acc'].append(acc)\n",
    "\n",
    "            edge_index = torch.vstack([torch.from_numpy(np.concatenate(edges_rows)),\n",
    "                                       torch.from_numpy(np.concatenate(edges_cols)),])\n",
    "            data = HeteroData(aggregator={'x': torch.tensor(accs)[:, None]},\n",
    "                              clients__aggregator={'edge_index': edge_index},\n",
    "                              aggregator__clients={'edge_index': edge_index[torch.tensor([1, 0])]},\n",
    "                              y=labels)\n",
    "            for k, w in weights.items():\n",
    "                data[k].x = w\n",
    "\n",
    "            cur_models = os.listdir(root)\n",
    "            cur_models = len([m for m in cur_models if m.endswith('.pt')])\n",
    "            torch.save(data, os.path.join(root, f'model{cur_models}.pt'))"
   ]
  },
  {
   "cell_type": "code",
   "execution_count": null,
   "id": "2f9f7404-44b2-4cab-8491-ac2c7ec583cf",
   "metadata": {},
   "outputs": [],
   "source": []
  },
  {
   "cell_type": "code",
   "execution_count": 12,
   "id": "d6ea7997-8ce1-4e24-a712-b0452001fcbb",
   "metadata": {},
   "outputs": [],
   "source": [
    "# graphs = [data, data, data, data]"
   ]
  },
  {
   "cell_type": "code",
   "execution_count": 13,
   "id": "153b1d51-7fc7-47b7-810a-92d0f5a512df",
   "metadata": {},
   "outputs": [],
   "source": [
    "# from torch_geometric.loader import DataLoader"
   ]
  },
  {
   "cell_type": "code",
   "execution_count": 14,
   "id": "0bec5675-52dc-4d0a-96d0-c52c16f20d81",
   "metadata": {},
   "outputs": [],
   "source": [
    "# loader = DataLoader(graphs, batch_size=2)"
   ]
  },
  {
   "cell_type": "code",
   "execution_count": null,
   "id": "1506afa6-9d95-4ded-a851-69acb5d6932e",
   "metadata": {},
   "outputs": [],
   "source": []
  },
  {
   "cell_type": "code",
   "execution_count": 12,
   "id": "e46f79b7-0dac-4334-a5e4-a80e40b69f49",
   "metadata": {
    "tags": []
   },
   "outputs": [
    {
     "ename": "ModuleNotFoundError",
     "evalue": "No module named 'seaborn'",
     "output_type": "error",
     "traceback": [
      "\u001B[0;31m---------------------------------------------------------------------------\u001B[0m",
      "\u001B[0;31mModuleNotFoundError\u001B[0m                       Traceback (most recent call last)",
      "Cell \u001B[0;32mIn[12], line 1\u001B[0m\n\u001B[0;32m----> 1\u001B[0m \u001B[38;5;28;01mimport\u001B[39;00m \u001B[38;5;21;01mseaborn\u001B[39;00m \u001B[38;5;28;01mas\u001B[39;00m \u001B[38;5;21;01msns\u001B[39;00m\n\u001B[1;32m      3\u001B[0m sns\u001B[38;5;241m.\u001B[39mscatterplot(stats, x\u001B[38;5;241m=\u001B[39m\u001B[38;5;124m'\u001B[39m\u001B[38;5;124mperturb\u001B[39m\u001B[38;5;124m'\u001B[39m, y\u001B[38;5;241m=\u001B[39m\u001B[38;5;124m'\u001B[39m\u001B[38;5;124macc\u001B[39m\u001B[38;5;124m'\u001B[39m)\n",
      "\u001B[0;31mModuleNotFoundError\u001B[0m: No module named 'seaborn'"
     ]
    }
   ],
   "source": [
    "import seaborn as sns\n",
    "\n",
    "sns.scatterplot(stats, x='perturb', y='acc')"
   ]
  },
  {
   "cell_type": "code",
   "execution_count": null,
   "id": "cf14a4f4-fc6d-42ca-9b45-257730ad9240",
   "metadata": {},
   "outputs": [],
   "source": []
  },
  {
   "cell_type": "code",
   "execution_count": null,
   "id": "278d782c-3563-4c8a-8ad8-80f4ed98cc61",
   "metadata": {},
   "outputs": [],
   "source": []
  }
 ],
 "metadata": {
  "kernelspec": {
   "display_name": "Python 3 (ipykernel)",
   "language": "python",
   "name": "python3"
  },
  "language_info": {
   "codemirror_mode": {
    "name": "ipython",
    "version": 3
   },
   "file_extension": ".py",
   "mimetype": "text/x-python",
   "name": "python",
   "nbconvert_exporter": "python",
   "pygments_lexer": "ipython3",
   "version": "3.8.16"
  }
 },
 "nbformat": 4,
 "nbformat_minor": 5
}
