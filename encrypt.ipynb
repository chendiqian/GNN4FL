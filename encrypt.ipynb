{
 "cells": [
  {
   "cell_type": "code",
   "execution_count": 32,
   "id": "d0f006df-854d-48bc-b697-d7a16f685b54",
   "metadata": {},
   "outputs": [],
   "source": [
    "from phe import paillier\n",
    "public_key, private_key = paillier.generate_paillier_keypair(n_length=512)"
   ]
  },
  {
   "cell_type": "code",
   "execution_count": 33,
   "id": "9a9a9015-00dc-4778-acb0-628915e4ec7f",
   "metadata": {},
   "outputs": [],
   "source": [
    "# %%timeit\n",
    "a = np.random.rand(25600)"
   ]
  },
  {
   "cell_type": "code",
   "execution_count": 39,
   "id": "5980123e-fba1-4fc2-b652-d94103095123",
   "metadata": {},
   "outputs": [],
   "source": [
    "ct_a = [public_key.encrypt(x, 1.0) for x in a]"
   ]
  },
  {
   "cell_type": "code",
   "execution_count": 41,
   "id": "85dd5be5-1758-412e-b721-14a797490ec3",
   "metadata": {},
   "outputs": [
    {
     "data": {
      "text/plain": [
       "{'public_key': <PaillierPublicKey 18e426005f>,\n",
       " '_EncryptedNumber__ciphertext': 73435028076227486365698935478634311017153127537292370580805798633023804908762203114577427458886190974675279394192135197698905338784687242534298081560553115392382440653888597464833172878503680964806458884691075854595825059460657274179830635847751879716272953959790246372989259107912093219191931242600572520025,\n",
       " 'exponent': 0,\n",
       " '_EncryptedNumber__is_obfuscated': True}"
      ]
     },
     "execution_count": 41,
     "metadata": {},
     "output_type": "execute_result"
    }
   ],
   "source": [
    "ct_a[0].__dict__"
   ]
  },
  {
   "cell_type": "code",
   "execution_count": null,
   "id": "bd4c3752-8c56-4e4f-9740-a822fac645dc",
   "metadata": {},
   "outputs": [],
   "source": []
  },
  {
   "cell_type": "code",
   "execution_count": null,
   "id": "1cfe6999-9df9-4152-a57d-a9cd8bbfdad3",
   "metadata": {},
   "outputs": [],
   "source": []
  },
  {
   "cell_type": "code",
   "execution_count": 36,
   "id": "37e29ced-4ed7-4dcb-80a9-da45270edf1d",
   "metadata": {},
   "outputs": [],
   "source": [
    "c1 = np.random.randn(100)"
   ]
  },
  {
   "cell_type": "code",
   "execution_count": 37,
   "id": "e9197b14-5fcd-44b8-b82c-1bd9396f429b",
   "metadata": {},
   "outputs": [],
   "source": [
    "c2 = np.random.randn(100) + 10"
   ]
  },
  {
   "cell_type": "code",
   "execution_count": null,
   "id": "124dc640-82be-4d7b-a348-d3a0b4b3647d",
   "metadata": {},
   "outputs": [],
   "source": []
  }
 ],
 "metadata": {
  "kernelspec": {
   "display_name": "Python 3 (ipykernel)",
   "language": "python",
   "name": "python3"
  },
  "language_info": {
   "codemirror_mode": {
    "name": "ipython",
    "version": 3
   },
   "file_extension": ".py",
   "mimetype": "text/x-python",
   "name": "python",
   "nbconvert_exporter": "python",
   "pygments_lexer": "ipython3",
   "version": "3.8.15"
  }
 },
 "nbformat": 4,
 "nbformat_minor": 5
}
